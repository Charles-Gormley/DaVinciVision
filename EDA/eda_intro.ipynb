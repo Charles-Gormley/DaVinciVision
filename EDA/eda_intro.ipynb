{
 "cells": [
  {
   "attachments": {},
   "cell_type": "markdown",
   "metadata": {},
   "source": [
    "# Exploratory Data Anlaysis - Viewing Dataset.\n",
    "This file is going to at:\n",
    "* Efficient ways of opening the dataset\n",
    "* The Structure of the Dataset\n",
    "* Differences between base images and normalized images "
   ]
  },
  {
   "attachments": {},
   "cell_type": "markdown",
   "metadata": {},
   "source": [
    "### Efficient ways of opening the dataset\n",
    "The dataset is a couple gigs and is a bunch of image files not in a normal data format.\n",
    "\n",
    "Strategy\n",
    "1. create function which only obtains photos by certain artists.\n",
    "2. Look at photos one at a time, then dump any data not needed.\n",
    "3. OOP this process for future model training."
   ]
  },
  {
   "cell_type": "code",
   "execution_count": null,
   "metadata": {},
   "outputs": [],
   "source": []
  },
  {
   "cell_type": "code",
   "execution_count": 69,
   "metadata": {},
   "outputs": [
    {
     "name": "stdout",
     "output_type": "stream",
     "text": [
      ".artistdata already created. If need to change path, do so manually.\n"
     ]
    }
   ],
   "source": [
    "import os\n",
    "os.chdir('..')\n",
    "from helpers.SetDataLocation import PathDir\n",
    "path_dir = PathDir()\n",
    "\n",
    "\n",
    "path_to_dataset = \"C:/Users/Charl/OneDrive/Documents/Education/Drexel/du_term_spring_23/DSCI-471/FinalProject\"\n",
    "# USE FORWARD SLASHES IF WINDOWS ///\n",
    "path_dir.create_file(path_to_dataset)\n",
    "path_dir.get_path_and_chdir()"
   ]
  },
  {
   "cell_type": "code",
   "execution_count": 70,
   "metadata": {},
   "outputs": [],
   "source": [
    "import pandas as pd\n",
    "\n",
    "df = pd.read_csv(os.getcwd() + '/' + 'artists.csv')"
   ]
  },
  {
   "cell_type": "code",
   "execution_count": 71,
   "metadata": {},
   "outputs": [
    {
     "data": {
      "text/plain": [
       "['.artistdata', '.git', 'artists.csv', 'DaVinciVision', 'images', 'resized']"
      ]
     },
     "execution_count": 71,
     "metadata": {},
     "output_type": "execute_result"
    }
   ],
   "source": [
    "os.listdir()"
   ]
  },
  {
   "cell_type": "code",
   "execution_count": 72,
   "metadata": {},
   "outputs": [
    {
     "data": {
      "text/html": [
       "<div>\n",
       "<style scoped>\n",
       "    .dataframe tbody tr th:only-of-type {\n",
       "        vertical-align: middle;\n",
       "    }\n",
       "\n",
       "    .dataframe tbody tr th {\n",
       "        vertical-align: top;\n",
       "    }\n",
       "\n",
       "    .dataframe thead th {\n",
       "        text-align: right;\n",
       "    }\n",
       "</style>\n",
       "<table border=\"1\" class=\"dataframe\">\n",
       "  <thead>\n",
       "    <tr style=\"text-align: right;\">\n",
       "      <th></th>\n",
       "      <th>id</th>\n",
       "      <th>name</th>\n",
       "      <th>years</th>\n",
       "      <th>genre</th>\n",
       "      <th>nationality</th>\n",
       "      <th>bio</th>\n",
       "      <th>wikipedia</th>\n",
       "      <th>paintings</th>\n",
       "    </tr>\n",
       "  </thead>\n",
       "  <tbody>\n",
       "    <tr>\n",
       "      <th>0</th>\n",
       "      <td>0</td>\n",
       "      <td>Amedeo Modigliani</td>\n",
       "      <td>1884 - 1920</td>\n",
       "      <td>Expressionism</td>\n",
       "      <td>Italian</td>\n",
       "      <td>Amedeo Clemente Modigliani (Italian pronunciat...</td>\n",
       "      <td>http://en.wikipedia.org/wiki/Amedeo_Modigliani</td>\n",
       "      <td>193</td>\n",
       "    </tr>\n",
       "    <tr>\n",
       "      <th>1</th>\n",
       "      <td>1</td>\n",
       "      <td>Vasiliy Kandinskiy</td>\n",
       "      <td>1866 - 1944</td>\n",
       "      <td>Expressionism,Abstractionism</td>\n",
       "      <td>Russian</td>\n",
       "      <td>Wassily Wassilyevich Kandinsky (Russian: Васи́...</td>\n",
       "      <td>http://en.wikipedia.org/wiki/Wassily_Kandinsky</td>\n",
       "      <td>88</td>\n",
       "    </tr>\n",
       "    <tr>\n",
       "      <th>2</th>\n",
       "      <td>2</td>\n",
       "      <td>Diego Rivera</td>\n",
       "      <td>1886 - 1957</td>\n",
       "      <td>Social Realism,Muralism</td>\n",
       "      <td>Mexican</td>\n",
       "      <td>Diego María de la Concepción Juan Nepomuceno E...</td>\n",
       "      <td>http://en.wikipedia.org/wiki/Diego_Rivera</td>\n",
       "      <td>70</td>\n",
       "    </tr>\n",
       "    <tr>\n",
       "      <th>3</th>\n",
       "      <td>3</td>\n",
       "      <td>Claude Monet</td>\n",
       "      <td>1840 - 1926</td>\n",
       "      <td>Impressionism</td>\n",
       "      <td>French</td>\n",
       "      <td>Oscar-Claude Monet (; French: [klod mɔnɛ]; 14 ...</td>\n",
       "      <td>http://en.wikipedia.org/wiki/Claude_Monet</td>\n",
       "      <td>73</td>\n",
       "    </tr>\n",
       "    <tr>\n",
       "      <th>4</th>\n",
       "      <td>4</td>\n",
       "      <td>Rene Magritte</td>\n",
       "      <td>1898 - 1967</td>\n",
       "      <td>Surrealism,Impressionism</td>\n",
       "      <td>Belgian</td>\n",
       "      <td>René François Ghislain Magritte (French: [ʁəne...</td>\n",
       "      <td>http://en.wikipedia.org/wiki/René_Magritte</td>\n",
       "      <td>194</td>\n",
       "    </tr>\n",
       "  </tbody>\n",
       "</table>\n",
       "</div>"
      ],
      "text/plain": [
       "   id                name        years                         genre  \\\n",
       "0   0   Amedeo Modigliani  1884 - 1920                 Expressionism   \n",
       "1   1  Vasiliy Kandinskiy  1866 - 1944  Expressionism,Abstractionism   \n",
       "2   2        Diego Rivera  1886 - 1957       Social Realism,Muralism   \n",
       "3   3        Claude Monet  1840 - 1926                 Impressionism   \n",
       "4   4       Rene Magritte  1898 - 1967      Surrealism,Impressionism   \n",
       "\n",
       "  nationality                                                bio  \\\n",
       "0     Italian  Amedeo Clemente Modigliani (Italian pronunciat...   \n",
       "1     Russian  Wassily Wassilyevich Kandinsky (Russian: Васи́...   \n",
       "2     Mexican  Diego María de la Concepción Juan Nepomuceno E...   \n",
       "3      French  Oscar-Claude Monet (; French: [klod mɔnɛ]; 14 ...   \n",
       "4     Belgian  René François Ghislain Magritte (French: [ʁəne...   \n",
       "\n",
       "                                        wikipedia  paintings  \n",
       "0  http://en.wikipedia.org/wiki/Amedeo_Modigliani        193  \n",
       "1  http://en.wikipedia.org/wiki/Wassily_Kandinsky         88  \n",
       "2       http://en.wikipedia.org/wiki/Diego_Rivera         70  \n",
       "3       http://en.wikipedia.org/wiki/Claude_Monet         73  \n",
       "4      http://en.wikipedia.org/wiki/René_Magritte        194  "
      ]
     },
     "execution_count": 72,
     "metadata": {},
     "output_type": "execute_result"
    }
   ],
   "source": [
    "df.head()"
   ]
  },
  {
   "cell_type": "code",
   "execution_count": 73,
   "metadata": {},
   "outputs": [],
   "source": [
    "unique_artists = list(df.name.unique())"
   ]
  },
  {
   "cell_type": "code",
   "execution_count": 74,
   "metadata": {},
   "outputs": [
    {
     "data": {
      "text/plain": [
       "['Amedeo Modigliani',\n",
       " 'Vasiliy Kandinskiy',\n",
       " 'Diego Rivera',\n",
       " 'Claude Monet',\n",
       " 'Rene Magritte',\n",
       " 'Salvador Dali',\n",
       " 'Edouard Manet',\n",
       " 'Andrei Rublev',\n",
       " 'Vincent van Gogh',\n",
       " 'Gustav Klimt',\n",
       " 'Hieronymus Bosch',\n",
       " 'Kazimir Malevich',\n",
       " 'Mikhail Vrubel',\n",
       " 'Pablo Picasso',\n",
       " 'Peter Paul Rubens',\n",
       " 'Pierre-Auguste Renoir',\n",
       " 'Francisco Goya',\n",
       " 'Frida Kahlo',\n",
       " 'El Greco',\n",
       " 'Albrecht Dürer',\n",
       " 'Alfred Sisley',\n",
       " 'Pieter Bruegel',\n",
       " 'Marc Chagall',\n",
       " 'Giotto di Bondone',\n",
       " 'Sandro Botticelli',\n",
       " 'Caravaggio',\n",
       " 'Leonardo da Vinci',\n",
       " 'Diego Velazquez',\n",
       " 'Henri Matisse',\n",
       " 'Jan van Eyck',\n",
       " 'Edgar Degas',\n",
       " 'Rembrandt',\n",
       " 'Titian',\n",
       " 'Henri de Toulouse-Lautrec',\n",
       " 'Gustave Courbet',\n",
       " 'Camille Pissarro',\n",
       " 'William Turner',\n",
       " 'Edvard Munch',\n",
       " 'Paul Cezanne',\n",
       " 'Eugene Delacroix',\n",
       " 'Henri Rousseau',\n",
       " 'Georges Seurat',\n",
       " 'Paul Klee',\n",
       " 'Piet Mondrian',\n",
       " 'Joan Miro',\n",
       " 'Andy Warhol',\n",
       " 'Paul Gauguin',\n",
       " 'Raphael',\n",
       " 'Michelangelo',\n",
       " 'Jackson Pollock']"
      ]
     },
     "execution_count": 74,
     "metadata": {},
     "output_type": "execute_result"
    }
   ],
   "source": [
    "unique_artists"
   ]
  },
  {
   "cell_type": "code",
   "execution_count": 75,
   "metadata": {},
   "outputs": [],
   "source": [
    "os.chdir(os.getcwd() + '/' + 'images')"
   ]
  },
  {
   "attachments": {},
   "cell_type": "markdown",
   "metadata": {},
   "source": [
    "### Opening regular images folder is easy. We will just iterate through the folders in images.images"
   ]
  },
  {
   "cell_type": "code",
   "execution_count": 76,
   "metadata": {},
   "outputs": [
    {
     "data": {
      "text/plain": [
       "['images']"
      ]
     },
     "execution_count": 76,
     "metadata": {},
     "output_type": "execute_result"
    }
   ],
   "source": [
    "os.listdir()"
   ]
  },
  {
   "attachments": {},
   "cell_type": "markdown",
   "metadata": {},
   "source": [
    "### Opening resized folder is a bit trickier, we will need to parse out which artists belongs to which one."
   ]
  },
  {
   "cell_type": "code",
   "execution_count": 77,
   "metadata": {},
   "outputs": [],
   "source": [
    "path_dir.get_path_and_chdir()"
   ]
  },
  {
   "cell_type": "code",
   "execution_count": 78,
   "metadata": {},
   "outputs": [],
   "source": [
    "os.chdir(os.getcwd() + '\\\\' + 'resized' + '\\\\' + 'resized' )"
   ]
  },
  {
   "cell_type": "code",
   "execution_count": 79,
   "metadata": {},
   "outputs": [],
   "source": [
    "unique_artists.sort()"
   ]
  },
  {
   "cell_type": "code",
   "execution_count": 80,
   "metadata": {},
   "outputs": [],
   "source": [
    "for i in range(len(unique_artists)):\n",
    "    unique_artists[i] = unique_artists[i].replace(\" \", \"_\")\n",
    "\n",
    "\n",
    "unique_artists[0] = \"Albrecht\" # Chaning this one to match name in resized"
   ]
  },
  {
   "cell_type": "code",
   "execution_count": 81,
   "metadata": {},
   "outputs": [],
   "source": [
    "for i in range(len(unique_artists)):\n",
    "    unique_artists[i] = unique_artists[i].replace(\" \", \"_\")\n",
    "\n",
    "unique_artists[0] = \"Albrecht\" # Chaning this one to match name in resized\n",
    "\n",
    "cur_index = 0\n",
    "dataset = []\n",
    "\n",
    "for pic_name in os.listdir():\n",
    "    for artist in unique_artists:\n",
    "        if artist in pic_name:\n",
    "            observation = dict()\n",
    "            observation[\"label\"] = artist\n",
    "            observation[\"pic-name\"] = pic_name\n",
    "            dataset.append(observation)\n",
    "            \n",
    "\n",
    "artists = dataset\n"
   ]
  },
  {
   "cell_type": "code",
   "execution_count": 82,
   "metadata": {},
   "outputs": [
    {
     "data": {
      "text/plain": [
       "8683"
      ]
     },
     "execution_count": 82,
     "metadata": {},
     "output_type": "execute_result"
    }
   ],
   "source": [
    "len(os.listdir())\n"
   ]
  },
  {
   "cell_type": "code",
   "execution_count": 83,
   "metadata": {},
   "outputs": [
    {
     "data": {
      "text/plain": [
       "8683"
      ]
     },
     "execution_count": 83,
     "metadata": {},
     "output_type": "execute_result"
    }
   ],
   "source": [
    "pd.DataFrame(dataset).shape[0]"
   ]
  },
  {
   "cell_type": "code",
   "execution_count": null,
   "metadata": {},
   "outputs": [],
   "source": [
    "# Renaming Albrecht files becuase Windows has trouble reading all his weird characters. \n",
    "\n",
    "import os\n",
    "import re\n",
    "\n",
    "\n",
    "# Get the list of files in the folder\n",
    "files = os.listdir()\n",
    "\n",
    "\n",
    "\n",
    "# Iterate over the files\n",
    "for file_name in files:\n",
    "    \n",
    "    if \"Albrecht\" in file_name:\n",
    "        # Extract the existing number from the file name\n",
    "        match = re.search(r\"_([0-9]+)\\.jpg\", file_name)\n",
    "        if match:\n",
    "            existing_number = match.group(1)\n",
    "        else:\n",
    "            existing_number = \"\"\n",
    "\n",
    "        # Create the new file name\n",
    "        new_file_name = f\"Albrecht_{existing_number}.jpg\"\n",
    "\n",
    "        # Get the current file path\n",
    "        current_file_path = 'C:\\\\Users\\\\Charl\\\\Documents\\\\FinalProject\\\\resized\\\\resized' + '\\\\' + file_name\n",
    "\n",
    "        # Generate the new file path\n",
    "        new_file_path = 'C:\\\\Users\\\\Charl\\\\Documents\\\\FinalProject\\\\resized\\\\resized' + '\\\\' + new_file_name\n",
    "\n",
    "        # Rename the file\n",
    "        os.rename(current_file_path, new_file_path)\n",
    "        \n",
    "\n",
    "        print(f\"Renamed '{file_name}' to '{new_file_name}'.\")"
   ]
  }
 ],
 "metadata": {
  "kernelspec": {
   "display_name": "Python 3",
   "language": "python",
   "name": "python3"
  },
  "language_info": {
   "codemirror_mode": {
    "name": "ipython",
    "version": 3
   },
   "file_extension": ".py",
   "mimetype": "text/x-python",
   "name": "python",
   "nbconvert_exporter": "python",
   "pygments_lexer": "ipython3",
   "version": "3.10.0"
  },
  "orig_nbformat": 4,
  "vscode": {
   "interpreter": {
    "hash": "5ee6f23f9c4d80c203dea4faa6a5d0c8cffa4ab65b221251ea7227320f350d1e"
   }
  }
 },
 "nbformat": 4,
 "nbformat_minor": 2
}
