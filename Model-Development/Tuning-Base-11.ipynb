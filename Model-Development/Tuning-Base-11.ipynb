{
 "cells": [
  {
   "cell_type": "code",
   "execution_count": 1,
   "metadata": {},
   "outputs": [
    {
     "name": "stderr",
     "output_type": "stream",
     "text": [
      "2023-06-04 23:24:31.524177: I tensorflow/core/platform/cpu_feature_guard.cc:182] This TensorFlow binary is optimized to use available CPU instructions in performance-critical operations.\n",
      "To enable the following instructions: AVX2 FMA, in other operations, rebuild TensorFlow with the appropriate compiler flags.\n",
      "2023-06-04 23:24:32.006306: W tensorflow/compiler/tf2tensorrt/utils/py_utils.cc:38] TF-TRT Warning: Could not find TensorRT\n"
     ]
    }
   ],
   "source": [
    "import ModelTrainFilters as ModelTrain\n",
    "import pickle\n",
    "from time import sleep\n",
    "\n",
    "histories = list()\n",
    "\n",
    "import os\n",
    "os.environ['TF_CPP_MIN_LOG_LEVEL'] = '3'\n",
    "\n",
    "run_type = 'base-11'\n",
    "# File path for the pickle file\n",
    "file_path = \"/home/ceg98/Documents/DaVinciVision/Model-Development/Results/\" + run_type + \".pkl\"\n",
    "i = 0\n"
   ]
  },
  {
   "cell_type": "code",
   "execution_count": 2,
   "metadata": {},
   "outputs": [],
   "source": [
    "if not os.path.exists(file_path):\n",
    "    # Save the empty list to a pickle file\n",
    "    with open(file_path, \"wb\") as pickle_file:\n",
    "        pickle.dump([], pickle_file)"
   ]
  },
  {
   "attachments": {},
   "cell_type": "markdown",
   "metadata": {},
   "source": [
    "## Testing Architectures - Passed"
   ]
  },
  {
   "cell_type": "code",
   "execution_count": 3,
   "metadata": {},
   "outputs": [],
   "source": [
    "architectures = [\n",
    "                 'ResNet50', \n",
    "                 \"BasicCNN\", \n",
    "                 \"AlexNet\", \n",
    "                 \"VGG\", \n",
    "                #  \"DenseNet\", \n",
    "                #  \"GoogLeNet\"\n",
    "                ] # ResNet50 is Transfer learning"
   ]
  },
  {
   "cell_type": "code",
   "execution_count": 4,
   "metadata": {},
   "outputs": [
    {
     "name": "stdout",
     "output_type": "stream",
     "text": [
      "Found 2550 images belonging to 11 classes.\n",
      "Found 155 images belonging to 11 classes.\n"
     ]
    },
    {
     "name": "stderr",
     "output_type": "stream",
     "text": [
      "2023-06-04 23:24:33.017355: I tensorflow/compiler/xla/stream_executor/cuda/cuda_gpu_executor.cc:996] successful NUMA node read from SysFS had negative value (-1), but there must be at least one NUMA node, so returning NUMA node zero. See more at https://github.com/torvalds/linux/blob/v6.0/Documentation/ABI/testing/sysfs-bus-pci#L344-L355\n",
      "2023-06-04 23:24:33.037262: I tensorflow/compiler/xla/stream_executor/cuda/cuda_gpu_executor.cc:996] successful NUMA node read from SysFS had negative value (-1), but there must be at least one NUMA node, so returning NUMA node zero. See more at https://github.com/torvalds/linux/blob/v6.0/Documentation/ABI/testing/sysfs-bus-pci#L344-L355\n",
      "2023-06-04 23:24:33.037402: I tensorflow/compiler/xla/stream_executor/cuda/cuda_gpu_executor.cc:996] successful NUMA node read from SysFS had negative value (-1), but there must be at least one NUMA node, so returning NUMA node zero. See more at https://github.com/torvalds/linux/blob/v6.0/Documentation/ABI/testing/sysfs-bus-pci#L344-L355\n",
      "2023-06-04 23:24:33.038062: I tensorflow/compiler/xla/stream_executor/cuda/cuda_gpu_executor.cc:996] successful NUMA node read from SysFS had negative value (-1), but there must be at least one NUMA node, so returning NUMA node zero. See more at https://github.com/torvalds/linux/blob/v6.0/Documentation/ABI/testing/sysfs-bus-pci#L344-L355\n",
      "2023-06-04 23:24:33.038169: I tensorflow/compiler/xla/stream_executor/cuda/cuda_gpu_executor.cc:996] successful NUMA node read from SysFS had negative value (-1), but there must be at least one NUMA node, so returning NUMA node zero. See more at https://github.com/torvalds/linux/blob/v6.0/Documentation/ABI/testing/sysfs-bus-pci#L344-L355\n",
      "2023-06-04 23:24:33.038262: I tensorflow/compiler/xla/stream_executor/cuda/cuda_gpu_executor.cc:996] successful NUMA node read from SysFS had negative value (-1), but there must be at least one NUMA node, so returning NUMA node zero. See more at https://github.com/torvalds/linux/blob/v6.0/Documentation/ABI/testing/sysfs-bus-pci#L344-L355\n",
      "2023-06-04 23:24:33.439202: I tensorflow/compiler/xla/stream_executor/cuda/cuda_gpu_executor.cc:996] successful NUMA node read from SysFS had negative value (-1), but there must be at least one NUMA node, so returning NUMA node zero. See more at https://github.com/torvalds/linux/blob/v6.0/Documentation/ABI/testing/sysfs-bus-pci#L344-L355\n",
      "2023-06-04 23:24:33.439399: I tensorflow/compiler/xla/stream_executor/cuda/cuda_gpu_executor.cc:996] successful NUMA node read from SysFS had negative value (-1), but there must be at least one NUMA node, so returning NUMA node zero. See more at https://github.com/torvalds/linux/blob/v6.0/Documentation/ABI/testing/sysfs-bus-pci#L344-L355\n",
      "2023-06-04 23:24:33.439501: I tensorflow/compiler/xla/stream_executor/cuda/cuda_gpu_executor.cc:996] successful NUMA node read from SysFS had negative value (-1), but there must be at least one NUMA node, so returning NUMA node zero. See more at https://github.com/torvalds/linux/blob/v6.0/Documentation/ABI/testing/sysfs-bus-pci#L344-L355\n",
      "2023-06-04 23:24:33.439576: I tensorflow/core/common_runtime/gpu/gpu_device.cc:1635] Created device /job:localhost/replica:0/task:0/device:GPU:0 with 9562 MB memory:  -> device: 0, name: NVIDIA GeForce RTX 3080 Ti, pci bus id: 0000:01:00.0, compute capability: 8.6\n",
      "WARNING:absl:`lr` is deprecated in Keras optimizer, please use `learning_rate` or use the legacy optimizer, e.g.,tf.keras.optimizers.legacy.Adam.\n"
     ]
    },
    {
     "name": "stdout",
     "output_type": "stream",
     "text": [
      "Epoch 1/10\n"
     ]
    },
    {
     "name": "stderr",
     "output_type": "stream",
     "text": [
      "2023-06-04 23:24:34.887251: I tensorflow/core/common_runtime/executor.cc:1197] [/device:CPU:0] (DEBUG INFO) Executor start aborting (this does not indicate an error and you can ignore this message): INVALID_ARGUMENT: You must feed a value for placeholder tensor 'Placeholder/_0' with dtype int32\n",
      "\t [[{{node Placeholder/_0}}]]\n",
      "2023-06-04 23:24:43.897676: I tensorflow/compiler/xla/stream_executor/cuda/cuda_dnn.cc:424] Loaded cuDNN version 8600\n",
      "2023-06-04 23:24:45.080337: I tensorflow/compiler/xla/stream_executor/cuda/cuda_blas.cc:637] TensorFloat-32 will be used for the matrix multiplication. This will only be logged once.\n",
      "2023-06-04 23:24:45.086288: I tensorflow/compiler/xla/service/service.cc:169] XLA service 0x1fd6a560 initialized for platform CUDA (this does not guarantee that XLA will be used). Devices:\n",
      "2023-06-04 23:24:45.086301: I tensorflow/compiler/xla/service/service.cc:177]   StreamExecutor device (0): NVIDIA GeForce RTX 3080 Ti, Compute Capability 8.6\n",
      "2023-06-04 23:24:45.089354: I tensorflow/compiler/mlir/tensorflow/utils/dump_mlir_util.cc:269] disabling MLIR crash reproducer, set env var `MLIR_CRASH_REPRODUCER_DIRECTORY` to enable.\n",
      "2023-06-04 23:24:45.183723: I ./tensorflow/compiler/jit/device_compiler.h:180] Compiled cluster using XLA!  This line is logged at most once for the lifetime of the process.\n"
     ]
    },
    {
     "name": "stdout",
     "output_type": "stream",
     "text": [
      "79/79 [==============================] - ETA: 0s - loss: 1.8555 - accuracy: 0.4031"
     ]
    },
    {
     "name": "stderr",
     "output_type": "stream",
     "text": [
      "2023-06-04 23:25:25.994958: I tensorflow/core/common_runtime/executor.cc:1197] [/device:CPU:0] (DEBUG INFO) Executor start aborting (this does not indicate an error and you can ignore this message): INVALID_ARGUMENT: You must feed a value for placeholder tensor 'Placeholder/_0' with dtype int32\n",
      "\t [[{{node Placeholder/_0}}]]\n"
     ]
    },
    {
     "name": "stdout",
     "output_type": "stream",
     "text": [
      "79/79 [==============================] - 53s 341ms/step - loss: 1.8555 - accuracy: 0.4031 - val_loss: 25.1639 - val_accuracy: 0.0781\n",
      "Epoch 2/10\n",
      "79/79 [==============================] - 25s 314ms/step - loss: 1.5610 - accuracy: 0.5012 - val_loss: 5.0775 - val_accuracy: 0.0781\n",
      "Epoch 3/10\n",
      "79/79 [==============================] - 25s 316ms/step - loss: 1.4352 - accuracy: 0.5346 - val_loss: 6.9289 - val_accuracy: 0.0781\n",
      "Epoch 4/10\n",
      "79/79 [==============================] - 25s 317ms/step - loss: 1.3442 - accuracy: 0.5659 - val_loss: 3.7912 - val_accuracy: 0.0703\n",
      "Epoch 5/10\n",
      "79/79 [==============================] - 25s 314ms/step - loss: 1.2091 - accuracy: 0.6017 - val_loss: 5.3910 - val_accuracy: 0.0547\n",
      "Epoch 6/10\n",
      "79/79 [==============================] - 25s 312ms/step - loss: 1.2431 - accuracy: 0.5925 - val_loss: 3.0527 - val_accuracy: 0.0625\n",
      "Epoch 7/10\n",
      "79/79 [==============================] - 25s 315ms/step - loss: 1.1705 - accuracy: 0.6076 - val_loss: 4.5587 - val_accuracy: 0.0625\n",
      "Epoch 8/10\n",
      "79/79 [==============================] - 24s 308ms/step - loss: 1.1388 - accuracy: 0.6263 - val_loss: 3.1904 - val_accuracy: 0.0781\n",
      "Epoch 9/10\n",
      "79/79 [==============================] - 24s 308ms/step - loss: 1.0911 - accuracy: 0.6303 - val_loss: 3.1546 - val_accuracy: 0.1250\n",
      "Epoch 10/10\n",
      "79/79 [==============================] - 24s 304ms/step - loss: 1.0617 - accuracy: 0.6438 - val_loss: 2.3339 - val_accuracy: 0.3047\n"
     ]
    },
    {
     "name": "stderr",
     "output_type": "stream",
     "text": [
      "WARNING:absl:`lr` is deprecated in Keras optimizer, please use `learning_rate` or use the legacy optimizer, e.g.,tf.keras.optimizers.legacy.Adam.\n",
      "/home/ceg98/Documents/DaVinciVision/Model-Development/ModelTrainFilters.py:414: UserWarning: `Model.fit_generator` is deprecated and will be removed in a future version. Please use `Model.fit`, which supports generators.\n",
      "  self.full_history = self.model.fit_generator(generator=self.train_generator,\n"
     ]
    },
    {
     "name": "stdout",
     "output_type": "stream",
     "text": [
      "Epoch 1/50\n"
     ]
    },
    {
     "name": "stderr",
     "output_type": "stream",
     "text": [
      "2023-06-04 23:29:11.200160: I tensorflow/core/common_runtime/executor.cc:1197] [/device:CPU:0] (DEBUG INFO) Executor start aborting (this does not indicate an error and you can ignore this message): INVALID_ARGUMENT: You must feed a value for placeholder tensor 'Placeholder/_3' with dtype float and shape [11]\n",
      "\t [[{{node Placeholder/_3}}]]\n"
     ]
    },
    {
     "name": "stdout",
     "output_type": "stream",
     "text": [
      "79/79 [==============================] - ETA: 0s - loss: 1.0614 - accuracy: 0.6287"
     ]
    },
    {
     "name": "stderr",
     "output_type": "stream",
     "text": [
      "2023-06-04 23:29:28.600982: I tensorflow/core/common_runtime/executor.cc:1197] [/device:CPU:0] (DEBUG INFO) Executor start aborting (this does not indicate an error and you can ignore this message): INVALID_ARGUMENT: You must feed a value for placeholder tensor 'Placeholder/_0' with dtype int32\n",
      "\t [[{{node Placeholder/_0}}]]\n"
     ]
    },
    {
     "name": "stdout",
     "output_type": "stream",
     "text": [
      "79/79 [==============================] - 20s 144ms/step - loss: 1.0614 - accuracy: 0.6287 - val_loss: 3.3509 - val_accuracy: 0.1484 - lr: 0.0010\n",
      "Epoch 2/50\n",
      "79/79 [==============================] - 12s 133ms/step - loss: 0.9246 - accuracy: 0.6843 - val_loss: 2.4732 - val_accuracy: 0.3125 - lr: 0.0010\n",
      "Epoch 3/50\n",
      "79/79 [==============================] - 12s 134ms/step - loss: 0.9103 - accuracy: 0.6898 - val_loss: 1.5810 - val_accuracy: 0.4688 - lr: 0.0010\n",
      "Epoch 4/50\n",
      "79/79 [==============================] - 12s 132ms/step - loss: 0.9045 - accuracy: 0.6898 - val_loss: 1.7428 - val_accuracy: 0.4766 - lr: 0.0010\n",
      "Epoch 5/50\n",
      "79/79 [==============================] - 12s 136ms/step - loss: 0.8555 - accuracy: 0.6934 - val_loss: 1.1744 - val_accuracy: 0.6094 - lr: 0.0010\n",
      "Epoch 6/50\n",
      "79/79 [==============================] - 13s 147ms/step - loss: 0.8811 - accuracy: 0.6902 - val_loss: 1.1984 - val_accuracy: 0.5938 - lr: 0.0010\n",
      "Epoch 7/50\n",
      "79/79 [==============================] - 13s 148ms/step - loss: 0.8559 - accuracy: 0.7025 - val_loss: 1.6859 - val_accuracy: 0.4766 - lr: 0.0010\n",
      "Epoch 8/50\n",
      "79/79 [==============================] - ETA: 0s - loss: 0.8575 - accuracy: 0.7113\n",
      "Epoch 8: ReduceLROnPlateau reducing learning rate to 0.00010000000474974513.\n",
      "79/79 [==============================] - 12s 133ms/step - loss: 0.8575 - accuracy: 0.7113 - val_loss: 1.5430 - val_accuracy: 0.5703 - lr: 0.0010\n",
      "Epoch 9/50\n",
      "79/79 [==============================] - 12s 137ms/step - loss: 0.7829 - accuracy: 0.7395 - val_loss: 0.9589 - val_accuracy: 0.6484 - lr: 1.0000e-04\n",
      "Epoch 10/50\n",
      "79/79 [==============================] - 12s 136ms/step - loss: 0.7896 - accuracy: 0.7284 - val_loss: 1.0545 - val_accuracy: 0.6328 - lr: 1.0000e-04\n",
      "Epoch 11/50\n",
      "79/79 [==============================] - 12s 136ms/step - loss: 0.7630 - accuracy: 0.7327 - val_loss: 1.0938 - val_accuracy: 0.6016 - lr: 1.0000e-04\n",
      "Epoch 12/50\n",
      "79/79 [==============================] - ETA: 0s - loss: 0.7485 - accuracy: 0.7490\n",
      "Epoch 12: ReduceLROnPlateau reducing learning rate to 1.0000000474974514e-05.\n",
      "79/79 [==============================] - 13s 150ms/step - loss: 0.7485 - accuracy: 0.7490 - val_loss: 0.9992 - val_accuracy: 0.6719 - lr: 1.0000e-04\n",
      "Epoch 13/50\n",
      "79/79 [==============================] - 18s 203ms/step - loss: 0.7565 - accuracy: 0.7427 - val_loss: 0.9704 - val_accuracy: 0.6719 - lr: 1.0000e-05\n",
      "Epoch 14/50\n",
      "79/79 [==============================] - 12s 135ms/step - loss: 0.7489 - accuracy: 0.7494 - val_loss: 1.0645 - val_accuracy: 0.6484 - lr: 1.0000e-05\n",
      "Epoch 15/50\n",
      "79/79 [==============================] - ETA: 0s - loss: 0.7392 - accuracy: 0.7518\n",
      "Epoch 15: ReduceLROnPlateau reducing learning rate to 1.0000000656873453e-06.\n",
      "79/79 [==============================] - 13s 136ms/step - loss: 0.7392 - accuracy: 0.7518 - val_loss: 1.1122 - val_accuracy: 0.6172 - lr: 1.0000e-05\n",
      "Epoch 16/50\n",
      "79/79 [==============================] - 12s 135ms/step - loss: 0.7358 - accuracy: 0.7470 - val_loss: 1.0039 - val_accuracy: 0.6562 - lr: 1.0000e-06\n",
      "Epoch 17/50\n",
      "79/79 [==============================] - 18s 206ms/step - loss: 0.7174 - accuracy: 0.7538 - val_loss: 0.9498 - val_accuracy: 0.6953 - lr: 1.0000e-06\n",
      "Epoch 18/50\n",
      "79/79 [==============================] - 13s 137ms/step - loss: 0.7207 - accuracy: 0.7526 - val_loss: 1.0823 - val_accuracy: 0.6328 - lr: 1.0000e-06\n",
      "Epoch 19/50\n",
      "79/79 [==============================] - 13s 137ms/step - loss: 0.7583 - accuracy: 0.7347 - val_loss: 0.9530 - val_accuracy: 0.6562 - lr: 1.0000e-06\n",
      "Epoch 20/50\n",
      "79/79 [==============================] - 13s 141ms/step - loss: 0.7441 - accuracy: 0.7438 - val_loss: 0.9108 - val_accuracy: 0.7109 - lr: 1.0000e-06\n",
      "Epoch 21/50\n",
      "79/79 [==============================] - 13s 140ms/step - loss: 0.7536 - accuracy: 0.7526 - val_loss: 1.0735 - val_accuracy: 0.6172 - lr: 1.0000e-06\n",
      "Epoch 22/50\n",
      "79/79 [==============================] - 13s 139ms/step - loss: 0.7529 - accuracy: 0.7419 - val_loss: 1.0615 - val_accuracy: 0.6328 - lr: 1.0000e-06\n",
      "Epoch 23/50\n",
      "79/79 [==============================] - ETA: 0s - loss: 0.7424 - accuracy: 0.7454\n",
      "Epoch 23: ReduceLROnPlateau reducing learning rate to 1.0000001111620805e-07.\n",
      "79/79 [==============================] - 13s 138ms/step - loss: 0.7424 - accuracy: 0.7454 - val_loss: 1.0161 - val_accuracy: 0.7031 - lr: 1.0000e-06\n",
      "Epoch 24/50\n",
      "79/79 [==============================] - 18s 201ms/step - loss: 0.7404 - accuracy: 0.7514 - val_loss: 1.0546 - val_accuracy: 0.6641 - lr: 1.0000e-07\n",
      "Epoch 25/50\n",
      "79/79 [==============================] - 18s 204ms/step - loss: 0.7480 - accuracy: 0.7486 - val_loss: 0.9832 - val_accuracy: 0.6797 - lr: 1.0000e-07\n",
      "Epoch 26/50\n",
      "79/79 [==============================] - ETA: 0s - loss: 0.7338 - accuracy: 0.7534\n",
      "Epoch 26: ReduceLROnPlateau reducing learning rate to 1.000000082740371e-08.\n",
      "79/79 [==============================] - 18s 201ms/step - loss: 0.7338 - accuracy: 0.7534 - val_loss: 1.0454 - val_accuracy: 0.6562 - lr: 1.0000e-07\n",
      "Epoch 27/50\n",
      "79/79 [==============================] - 13s 145ms/step - loss: 0.7262 - accuracy: 0.7454 - val_loss: 1.0360 - val_accuracy: 0.6328 - lr: 1.0000e-08\n",
      "Epoch 28/50\n",
      "79/79 [==============================] - 12s 129ms/step - loss: 0.7531 - accuracy: 0.7427 - val_loss: 0.9413 - val_accuracy: 0.6641 - lr: 1.0000e-08\n",
      "Epoch 29/50\n",
      "79/79 [==============================] - ETA: 0s - loss: 0.7490 - accuracy: 0.7494\n",
      "Epoch 29: ReduceLROnPlateau reducing learning rate to 1.000000082740371e-09.\n",
      "79/79 [==============================] - 16s 189ms/step - loss: 0.7490 - accuracy: 0.7494 - val_loss: 0.9936 - val_accuracy: 0.6797 - lr: 1.0000e-08\n",
      "Epoch 30/50\n",
      "79/79 [==============================] - 13s 145ms/step - loss: 0.7698 - accuracy: 0.7295 - val_loss: 0.9900 - val_accuracy: 0.6953 - lr: 1.0000e-09\n",
      "Epoch 31/50\n",
      "79/79 [==============================] - 12s 130ms/step - loss: 0.7516 - accuracy: 0.7458 - val_loss: 1.0433 - val_accuracy: 0.6484 - lr: 1.0000e-09\n",
      "Epoch 32/50\n",
      "79/79 [==============================] - ETA: 0s - loss: 0.7301 - accuracy: 0.7601\n",
      "Epoch 32: ReduceLROnPlateau reducing learning rate to 1.000000082740371e-10.\n",
      "79/79 [==============================] - 12s 129ms/step - loss: 0.7301 - accuracy: 0.7601 - val_loss: 1.0145 - val_accuracy: 0.6406 - lr: 1.0000e-09\n",
      "Epoch 33/50\n",
      "79/79 [==============================] - 13s 147ms/step - loss: 0.7484 - accuracy: 0.7442 - val_loss: 1.0429 - val_accuracy: 0.6797 - lr: 1.0000e-10\n",
      "Epoch 34/50\n",
      "79/79 [==============================] - 17s 198ms/step - loss: 0.7166 - accuracy: 0.7581 - val_loss: 1.0554 - val_accuracy: 0.6484 - lr: 1.0000e-10\n",
      "Epoch 35/50\n",
      "79/79 [==============================] - ETA: 0s - loss: 0.7587 - accuracy: 0.7383\n",
      "Epoch 35: ReduceLROnPlateau reducing learning rate to 1.000000082740371e-11.\n",
      "79/79 [==============================] - 12s 130ms/step - loss: 0.7587 - accuracy: 0.7383 - val_loss: 0.9671 - val_accuracy: 0.6797 - lr: 1.0000e-10\n",
      "Epoch 36/50\n",
      "79/79 [==============================] - 13s 148ms/step - loss: 0.7379 - accuracy: 0.7494 - val_loss: 0.9569 - val_accuracy: 0.7109 - lr: 1.0000e-11\n",
      "Epoch 37/50\n",
      "79/79 [==============================] - 12s 132ms/step - loss: 0.7611 - accuracy: 0.7407 - val_loss: 1.0151 - val_accuracy: 0.6797 - lr: 1.0000e-11\n",
      "Epoch 38/50\n",
      "79/79 [==============================] - ETA: 0s - loss: 0.7204 - accuracy: 0.7466\n",
      "Epoch 38: ReduceLROnPlateau reducing learning rate to 1.000000082740371e-12.\n",
      "79/79 [==============================] - 12s 130ms/step - loss: 0.7204 - accuracy: 0.7466 - val_loss: 0.9963 - val_accuracy: 0.6484 - lr: 1.0000e-11\n",
      "Epoch 39/50\n",
      "79/79 [==============================] - 12s 135ms/step - loss: 0.7324 - accuracy: 0.7502 - val_loss: 0.9052 - val_accuracy: 0.6797 - lr: 1.0000e-12\n",
      "Epoch 40/50\n",
      "79/79 [==============================] - 12s 131ms/step - loss: 0.7204 - accuracy: 0.7558 - val_loss: 0.9266 - val_accuracy: 0.7031 - lr: 1.0000e-12\n",
      "Epoch 41/50\n",
      "79/79 [==============================] - 12s 133ms/step - loss: 0.7459 - accuracy: 0.7486 - val_loss: 1.0642 - val_accuracy: 0.6172 - lr: 1.0000e-12\n",
      "Epoch 42/50\n",
      "79/79 [==============================] - ETA: 0s - loss: 0.7535 - accuracy: 0.7431\n",
      "Epoch 42: ReduceLROnPlateau reducing learning rate to 1.0000001044244145e-13.\n",
      "79/79 [==============================] - 14s 151ms/step - loss: 0.7535 - accuracy: 0.7431 - val_loss: 1.0352 - val_accuracy: 0.6562 - lr: 1.0000e-12\n",
      "Epoch 43/50\n",
      "79/79 [==============================] - 12s 131ms/step - loss: 0.7415 - accuracy: 0.7470 - val_loss: 1.1633 - val_accuracy: 0.6016 - lr: 1.0000e-13\n",
      "Epoch 44/50\n",
      "79/79 [==============================] - 17s 192ms/step - loss: 0.7551 - accuracy: 0.7470 - val_loss: 1.0458 - val_accuracy: 0.6641 - lr: 1.0000e-13\n",
      "Epoch 45/50\n",
      "79/79 [==============================] - ETA: 0s - loss: 0.7419 - accuracy: 0.7498\n",
      "Epoch 45: ReduceLROnPlateau reducing learning rate to 1.0000001179769417e-14.\n",
      "79/79 [==============================] - 12s 132ms/step - loss: 0.7419 - accuracy: 0.7498 - val_loss: 1.0381 - val_accuracy: 0.6641 - lr: 1.0000e-13\n",
      "Epoch 46/50\n",
      "79/79 [==============================] - 13s 147ms/step - loss: 0.7221 - accuracy: 0.7550 - val_loss: 1.1003 - val_accuracy: 0.6719 - lr: 1.0000e-14\n",
      "Epoch 47/50\n",
      "79/79 [==============================] - 13s 147ms/step - loss: 0.7261 - accuracy: 0.7653 - val_loss: 0.9947 - val_accuracy: 0.6406 - lr: 1.0000e-14\n",
      "Epoch 48/50\n",
      "79/79 [==============================] - ETA: 0s - loss: 0.7081 - accuracy: 0.7573\n",
      "Epoch 48: ReduceLROnPlateau reducing learning rate to 1.0000001518582595e-15.\n",
      "79/79 [==============================] - 13s 148ms/step - loss: 0.7081 - accuracy: 0.7573 - val_loss: 1.0127 - val_accuracy: 0.6406 - lr: 1.0000e-14\n",
      "Epoch 49/50\n",
      "79/79 [==============================] - 13s 139ms/step - loss: 0.7497 - accuracy: 0.7450 - val_loss: 1.0409 - val_accuracy: 0.6406 - lr: 1.0000e-15\n",
      "Epoch 50/50\n",
      "79/79 [==============================] - 13s 146ms/step - loss: 0.7496 - accuracy: 0.7379 - val_loss: 1.0391 - val_accuracy: 0.6641 - lr: 1.0000e-15\n",
      "Found 2550 images belonging to 11 classes.\n",
      "Found 155 images belonging to 11 classes.\n"
     ]
    },
    {
     "name": "stderr",
     "output_type": "stream",
     "text": [
      "WARNING:absl:`lr` is deprecated in Keras optimizer, please use `learning_rate` or use the legacy optimizer, e.g.,tf.keras.optimizers.legacy.Adam.\n"
     ]
    },
    {
     "name": "stdout",
     "output_type": "stream",
     "text": [
      "Epoch 1/10\n"
     ]
    },
    {
     "name": "stderr",
     "output_type": "stream",
     "text": [
      "2023-06-04 23:40:39.296660: I tensorflow/core/common_runtime/executor.cc:1197] [/device:CPU:0] (DEBUG INFO) Executor start aborting (this does not indicate an error and you can ignore this message): INVALID_ARGUMENT: You must feed a value for placeholder tensor 'Placeholder/_0' with dtype int32\n",
      "\t [[{{node Placeholder/_0}}]]\n"
     ]
    },
    {
     "name": "stdout",
     "output_type": "stream",
     "text": [
      "79/79 [==============================] - ETA: 0s - loss: 2.3991 - accuracy: 0.3844"
     ]
    },
    {
     "name": "stderr",
     "output_type": "stream",
     "text": [
      "2023-06-04 23:41:06.594222: I tensorflow/core/common_runtime/executor.cc:1197] [/device:CPU:0] (DEBUG INFO) Executor start aborting (this does not indicate an error and you can ignore this message): INVALID_ARGUMENT: You must feed a value for placeholder tensor 'Placeholder/_0' with dtype int32\n",
      "\t [[{{node Placeholder/_0}}]]\n"
     ]
    },
    {
     "name": "stdout",
     "output_type": "stream",
     "text": [
      "79/79 [==============================] - 29s 323ms/step - loss: 2.3991 - accuracy: 0.3844 - val_loss: 8.2909 - val_accuracy: 0.0469\n",
      "Epoch 2/10\n",
      "79/79 [==============================] - 25s 321ms/step - loss: 1.5862 - accuracy: 0.4603 - val_loss: 9.2982 - val_accuracy: 0.2188\n",
      "Epoch 3/10\n",
      "79/79 [==============================] - 25s 321ms/step - loss: 1.5197 - accuracy: 0.4766 - val_loss: 4.8587 - val_accuracy: 0.2500\n",
      "Epoch 4/10\n",
      "79/79 [==============================] - 25s 321ms/step - loss: 1.4778 - accuracy: 0.4833 - val_loss: 3.8662 - val_accuracy: 0.1797\n",
      "Epoch 5/10\n",
      "79/79 [==============================] - 25s 319ms/step - loss: 1.4725 - accuracy: 0.4841 - val_loss: 2.5229 - val_accuracy: 0.2969\n",
      "Epoch 6/10\n",
      "79/79 [==============================] - 25s 320ms/step - loss: 1.4262 - accuracy: 0.4865 - val_loss: 2.1662 - val_accuracy: 0.2969\n",
      "Epoch 7/10\n",
      "79/79 [==============================] - 25s 318ms/step - loss: 1.4187 - accuracy: 0.5083 - val_loss: 1.9898 - val_accuracy: 0.3984\n",
      "Epoch 8/10\n",
      "79/79 [==============================] - 25s 318ms/step - loss: 1.3900 - accuracy: 0.5207 - val_loss: 1.6642 - val_accuracy: 0.4609\n",
      "Epoch 9/10\n",
      "79/79 [==============================] - 25s 312ms/step - loss: 1.3870 - accuracy: 0.5135 - val_loss: 1.5918 - val_accuracy: 0.4453\n",
      "Epoch 10/10\n",
      "79/79 [==============================] - 25s 314ms/step - loss: 1.3537 - accuracy: 0.5349 - val_loss: 1.5857 - val_accuracy: 0.4688\n"
     ]
    },
    {
     "name": "stderr",
     "output_type": "stream",
     "text": [
      "WARNING:absl:`lr` is deprecated in Keras optimizer, please use `learning_rate` or use the legacy optimizer, e.g.,tf.keras.optimizers.legacy.Adam.\n",
      "/home/ceg98/Documents/DaVinciVision/Model-Development/ModelTrainFilters.py:414: UserWarning: `Model.fit_generator` is deprecated and will be removed in a future version. Please use `Model.fit`, which supports generators.\n",
      "  self.full_history = self.model.fit_generator(generator=self.train_generator,\n"
     ]
    },
    {
     "name": "stdout",
     "output_type": "stream",
     "text": [
      "Epoch 1/50\n"
     ]
    },
    {
     "name": "stderr",
     "output_type": "stream",
     "text": [
      "2023-06-04 23:44:55.088607: I tensorflow/core/common_runtime/executor.cc:1197] [/device:CPU:0] (DEBUG INFO) Executor start aborting (this does not indicate an error and you can ignore this message): INVALID_ARGUMENT: You must feed a value for placeholder tensor 'Placeholder/_3' with dtype float and shape [11]\n",
      "\t [[{{node Placeholder/_3}}]]\n"
     ]
    },
    {
     "name": "stdout",
     "output_type": "stream",
     "text": [
      "79/79 [==============================] - ETA: 0s - loss: 1.4109 - accuracy: 0.4861"
     ]
    },
    {
     "name": "stderr",
     "output_type": "stream",
     "text": [
      "2023-06-04 23:45:04.296213: I tensorflow/core/common_runtime/executor.cc:1197] [/device:CPU:0] (DEBUG INFO) Executor start aborting (this does not indicate an error and you can ignore this message): INVALID_ARGUMENT: You must feed a value for placeholder tensor 'Placeholder/_0' with dtype int32\n",
      "\t [[{{node Placeholder/_0}}]]\n"
     ]
    },
    {
     "name": "stdout",
     "output_type": "stream",
     "text": [
      "79/79 [==============================] - 17s 154ms/step - loss: 1.4109 - accuracy: 0.4861 - val_loss: 1.6446 - val_accuracy: 0.4219 - lr: 0.0010\n",
      "Epoch 2/50\n",
      "79/79 [==============================] - 9s 94ms/step - loss: 1.3682 - accuracy: 0.4805 - val_loss: 1.9526 - val_accuracy: 0.3672 - lr: 0.0010\n",
      "Epoch 3/50\n",
      "79/79 [==============================] - 14s 150ms/step - loss: 1.4629 - accuracy: 0.4555 - val_loss: 1.5305 - val_accuracy: 0.4609 - lr: 0.0010\n",
      "Epoch 4/50\n",
      "79/79 [==============================] - 10s 101ms/step - loss: 1.4420 - accuracy: 0.4690 - val_loss: 2.0744 - val_accuracy: 0.2500 - lr: 0.0010\n",
      "Epoch 5/50\n",
      "79/79 [==============================] - 9s 90ms/step - loss: 1.4305 - accuracy: 0.4575 - val_loss: 1.8824 - val_accuracy: 0.3438 - lr: 0.0010\n",
      "Epoch 6/50\n",
      "77/79 [============================>.] - ETA: 0s - loss: 1.3555 - accuracy: 0.4703\n",
      "Epoch 6: ReduceLROnPlateau reducing learning rate to 0.00010000000474974513.\n",
      "79/79 [==============================] - 14s 157ms/step - loss: 1.3563 - accuracy: 0.4686 - val_loss: 1.6303 - val_accuracy: 0.4453 - lr: 0.0010\n",
      "Epoch 7/50\n",
      "79/79 [==============================] - 14s 152ms/step - loss: 1.3107 - accuracy: 0.5139 - val_loss: 1.6058 - val_accuracy: 0.4688 - lr: 1.0000e-04\n",
      "Epoch 8/50\n",
      "79/79 [==============================] - 10s 100ms/step - loss: 1.1850 - accuracy: 0.5421 - val_loss: 1.5162 - val_accuracy: 0.5312 - lr: 1.0000e-04\n",
      "Epoch 9/50\n",
      "79/79 [==============================] - 10s 103ms/step - loss: 1.1928 - accuracy: 0.5437 - val_loss: 1.5828 - val_accuracy: 0.4844 - lr: 1.0000e-04\n",
      "Epoch 10/50\n",
      "79/79 [==============================] - 15s 160ms/step - loss: 1.1578 - accuracy: 0.5477 - val_loss: 1.4926 - val_accuracy: 0.4844 - lr: 1.0000e-04\n",
      "Epoch 11/50\n",
      "79/79 [==============================] - 10s 99ms/step - loss: 1.1789 - accuracy: 0.5401 - val_loss: 1.5212 - val_accuracy: 0.4766 - lr: 1.0000e-04\n",
      "Epoch 12/50\n",
      "79/79 [==============================] - 14s 155ms/step - loss: 1.1181 - accuracy: 0.5631 - val_loss: 1.4640 - val_accuracy: 0.4609 - lr: 1.0000e-04\n",
      "Epoch 13/50\n"
     ]
    }
   ],
   "source": [
    "for arch in architectures:\n",
    "\n",
    "    tm = ModelTrain.TrainModel(architecture=arch, \n",
    "                               batch_size=32, \n",
    "                               image_size=225, \n",
    "                               validation_split=.2, \n",
    "                               learning_rate=0.0001, \n",
    "                               seed_n=1, \n",
    "                               verbose=1, \n",
    "                               best_classes=True, \n",
    "                               normalization=True,\n",
    "                               dropout=False,\n",
    "                               dropout_rate=0.1,\n",
    "                               garbor=False,\n",
    "                               laplacian=False,\n",
    "                               custom_gen=False,\n",
    "                               augments=True,\n",
    "                               short_epochs=10,\n",
    "                               full_epoch=50,\n",
    "                               full_cutoff=.0909,\n",
    "                               weights_dir=run_type,\n",
    "                               model_name = arch) # Initializing Class\n",
    "    \n",
    "\n",
    "\n",
    "\n",
    "    history = tm.train()\n",
    "\n",
    "    with open(file_path, \"rb\") as pickle_file:\n",
    "        histories = pickle.load(pickle_file)\n",
    "\n",
    "    histories.append(history)\n",
    "\n",
    "    # Save the list as a pickle file\n",
    "    with open(file_path, \"wb\") as pickle_file:\n",
    "        pickle.dump(histories, pickle_file)\n",
    "    \n",
    "    i += 1\n",
    "    if i == 5:\n",
    "        i = 0\n",
    "        sleep(3*60)"
   ]
  },
  {
   "cell_type": "code",
   "execution_count": null,
   "metadata": {},
   "outputs": [],
   "source": []
  }
 ],
 "metadata": {
  "kernelspec": {
   "display_name": "ML",
   "language": "python",
   "name": "python3"
  },
  "language_info": {
   "codemirror_mode": {
    "name": "ipython",
    "version": 3
   },
   "file_extension": ".py",
   "mimetype": "text/x-python",
   "name": "python",
   "nbconvert_exporter": "python",
   "pygments_lexer": "ipython3",
   "version": "3.9.16"
  },
  "orig_nbformat": 4
 },
 "nbformat": 4,
 "nbformat_minor": 2
}
