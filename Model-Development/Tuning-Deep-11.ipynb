{
 "cells": [
  {
   "cell_type": "code",
   "execution_count": 1,
   "metadata": {},
   "outputs": [
    {
     "name": "stderr",
     "output_type": "stream",
     "text": [
      "2023-06-04 17:57:49.925631: I tensorflow/core/platform/cpu_feature_guard.cc:182] This TensorFlow binary is optimized to use available CPU instructions in performance-critical operations.\n",
      "To enable the following instructions: AVX2 FMA, in other operations, rebuild TensorFlow with the appropriate compiler flags.\n",
      "2023-06-04 17:57:50.466506: W tensorflow/compiler/tf2tensorrt/utils/py_utils.cc:38] TF-TRT Warning: Could not find TensorRT\n"
     ]
    }
   ],
   "source": [
    "import ModelTrainFilters as ModelTrain\n",
    "import pickle\n",
    "from time import sleep\n",
    "\n",
    "histories = list()\n",
    "\n",
    "import os\n",
    "os.environ['TF_CPP_MIN_LOG_LEVEL'] = '3'\n",
    "\n",
    "run_type = 'deep-11'\n",
    "# File path for the pickle file\n",
    "file_path = \"/home/ceg98/Documents/DaVinciVision/Model-Development/Results/\" + run_type + \".pkl\"\n",
    "i = 0"
   ]
  },
  {
   "attachments": {},
   "cell_type": "markdown",
   "metadata": {},
   "source": [
    "## Testing Architectures"
   ]
  },
  {
   "cell_type": "code",
   "execution_count": null,
   "metadata": {},
   "outputs": [],
   "source": [
    "if not os.path.exists(file_path):\n",
    "    # Save the empty list to a pickle file\n",
    "    with open(file_path, \"wb\") as pickle_file:\n",
    "        pickle.dump([], pickle_file)"
   ]
  },
  {
   "cell_type": "code",
   "execution_count": 2,
   "metadata": {},
   "outputs": [],
   "source": [
    "# architectures = ['ResNet50', \"BasicCNN\", \"AlexNet\", \"VGG\", \"DenseNet\", \"GoogLeNet\"]"
   ]
  },
  {
   "cell_type": "code",
   "execution_count": null,
   "metadata": {},
   "outputs": [],
   "source": [
    "lrs = [.001, .0001, .00001]\n",
    "ARCH = \"DenseNet\" # CONSTANT\n",
    "custom_gens = [{\"Custom\": True, \"Lap\": True, \"Garbor\":False}, \n",
    "              {\"Custom\": True, \"Lap\":False, \"Garbor\":True},\n",
    "              {\"Custom\": False, \"Lap\": False, \"Garbor\":False}]\n",
    "drops = [True, False]\n",
    "\n",
    "\n",
    "for lr in lrs:\n",
    "    for custom_gen in custom_gens:\n",
    "        for drop in drops:\n",
    "            # Iterate with learning-rate, custom-gen(laplacian or garbor), weights_dir, dropout, # Do with best arch first, then with next 2,  \n",
    "            tm = ModelTrain.TrainModel(architecture=ARCH, \n",
    "                                    batch_size=32, \n",
    "                                    image_size=225, \n",
    "                                    validation_split=.2, \n",
    "                                    learning_rate=0.0001, \n",
    "                                    seed_n=1, \n",
    "                                    verbose=1, \n",
    "                                    best_classes=True, \n",
    "                                    normalization=True,\n",
    "                                    dropout=drop,\n",
    "                                    dropout_rate=0.1,\n",
    "                                    garbor=custom_gen['Garbor'],\n",
    "                                    laplacian=custom_gen['Lap'],\n",
    "                                    custom_gen=custom_gen['Custom'],\n",
    "                                    augments=True,\n",
    "                                    short_epochs=10,\n",
    "                                    full_epoch=50,\n",
    "                                    full_cutoff=.0909,\n",
    "                                    weights_dir=run_type,\n",
    "                                    model_name = ARCH+str(i)) # Initializing Class\n",
    "    \n",
    "\n",
    "\n",
    "\n",
    "            history = tm.train()\n",
    "\n",
    "            with open(file_path, \"rb\") as pickle_file:\n",
    "                histories = pickle.load(pickle_file)\n",
    "\n",
    "            histories.append(history)\n",
    "\n",
    "            # Save the list as a pickle file\n",
    "            with open(file_path, \"wb\") as pickle_file:\n",
    "                pickle.dump(histories, pickle_file)\n",
    "            \n",
    "            i += 1\n",
    "            if (i % 2) == 0:\n",
    "                sleep(3*60)"
   ]
  }
 ],
 "metadata": {
  "kernelspec": {
   "display_name": "ML",
   "language": "python",
   "name": "python3"
  },
  "language_info": {
   "codemirror_mode": {
    "name": "ipython",
    "version": 3
   },
   "file_extension": ".py",
   "mimetype": "text/x-python",
   "name": "python",
   "nbconvert_exporter": "python",
   "pygments_lexer": "ipython3",
   "version": "3.9.16"
  },
  "orig_nbformat": 4
 },
 "nbformat": 4,
 "nbformat_minor": 2
}
