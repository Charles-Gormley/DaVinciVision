{
  "cells": [
    {
      "cell_type": "code",
      "execution_count": null,
      "id": "62052ae3",
      "metadata": {
        "id": "62052ae3"
      },
      "outputs": [],
      "source": [
        "import numpy as np\n",
        "import pandas as pd\n",
        "import cv2\n",
        "import os\n",
        "import matplotlib.pyplot as plt\n",
        "import tensorflow as tf\n",
        "from tensorflow import keras\n",
        "from tensorflow.keras import layers, optimizers\n",
        "from sklearn.model_selection import train_test_split\n",
        "import random\n",
        "import math"
      ]
    },
    {
      "cell_type": "code",
      "execution_count": null,
      "id": "D5qNom7_aVGS",
      "metadata": {
        "id": "D5qNom7_aVGS"
      },
      "outputs": [],
      "source": [
        "#!ls drive/MyDrive/ColabNotebooks/DSCI471/Project/Project/data/resized/resized"
      ]
    },
    {
      "cell_type": "code",
      "execution_count": null,
      "id": "jRcTnkrEai9X",
      "metadata": {
        "colab": {
          "base_uri": "https://localhost:8080/"
        },
        "id": "jRcTnkrEai9X",
        "outputId": "7f213921-eebe-41fa-f11b-6c4800bb6a97"
      },
      "outputs": [
        {
          "name": "stdout",
          "output_type": "stream",
          "text": [
            "Mounted at /content/drive\n"
          ]
        }
      ],
      "source": [
        "from google.colab import drive\n",
        "drive.mount('/content/drive')"
      ]
    },
    {
      "cell_type": "code",
      "execution_count": null,
      "id": "ff069d38",
      "metadata": {
        "id": "ff069d38"
      },
      "outputs": [],
      "source": [
        "#!pip3 install opencv-python"
      ]
    },
    {
      "cell_type": "code",
      "execution_count": null,
      "id": "f903b6d2",
      "metadata": {
        "colab": {
          "base_uri": "https://localhost:8080/",
          "height": 183
        },
        "id": "f903b6d2",
        "outputId": "7f3ea3b0-e2ed-414e-ec70-94c1c5932231"
      },
      "outputs": [
        {
          "ename": "FileNotFoundError",
          "evalue": "ignored",
          "output_type": "error",
          "traceback": [
            "\u001b[0;31m---------------------------------------------------------------------------\u001b[0m",
            "\u001b[0;31mFileNotFoundError\u001b[0m                         Traceback (most recent call last)",
            "\u001b[0;32m<ipython-input-6-b20edbeb6067>\u001b[0m in \u001b[0;36m<cell line: 2>\u001b[0;34m()\u001b[0m\n\u001b[1;32m      1\u001b[0m \u001b[0mimg_dir\u001b[0m\u001b[0;34m=\u001b[0m\u001b[0;34m\"drive/MyDrive/ColabNotebooks/DSCI471/Project/Project/data/resized/resized/\"\u001b[0m\u001b[0;34m\u001b[0m\u001b[0;34m\u001b[0m\u001b[0m\n\u001b[0;32m----> 2\u001b[0;31m \u001b[0mimgs\u001b[0m\u001b[0;34m=\u001b[0m\u001b[0mos\u001b[0m\u001b[0;34m.\u001b[0m\u001b[0mlistdir\u001b[0m\u001b[0;34m(\u001b[0m\u001b[0mimg_dir\u001b[0m\u001b[0;34m)\u001b[0m\u001b[0;34m\u001b[0m\u001b[0;34m\u001b[0m\u001b[0m\n\u001b[0m",
            "\u001b[0;31mFileNotFoundError\u001b[0m: [Errno 2] No such file or directory: 'drive/MyDrive/ColabNotebooks/DSCI471/Project/Project/data/resized/resized/'"
          ]
        }
      ],
      "source": [
        "img_dir=\"drive/MyDrive/ColabNotebooks/DSCI471/Project/Project/data/resized/resized/\"\n",
        "imgs=os.listdir(img_dir)"
      ]
    },
    {
      "cell_type": "code",
      "execution_count": null,
      "id": "84a9dbac",
      "metadata": {
        "id": "84a9dbac"
      },
      "outputs": [],
      "source": [
        "img=cv2.imread(img_dir+imgs[0])"
      ]
    },
    {
      "cell_type": "code",
      "execution_count": null,
      "id": "c959fae0",
      "metadata": {
        "id": "c959fae0"
      },
      "outputs": [],
      "source": [
        "img.shape"
      ]
    },
    {
      "cell_type": "code",
      "execution_count": null,
      "id": "4-XEISu6dC-D",
      "metadata": {
        "id": "4-XEISu6dC-D"
      },
      "outputs": [],
      "source": [
        "img2=cv2.imread(img_dir+imgs[0])\n",
        "print(img2.shape)\n",
        "plt.imshow(img2)\n",
        "plt.show()"
      ]
    },
    {
      "cell_type": "code",
      "execution_count": null,
      "id": "6067a734",
      "metadata": {
        "id": "6067a734"
      },
      "outputs": [],
      "source": [
        "y_max=float('-inf')\n",
        "x_max=float('-inf')\n",
        "i_x=-1\n",
        "i_y=-1\n",
        "for i in range(len(imgs)):\n",
        "  img=cv2.imread(img_dir+imgs[i])\n",
        "  y_ax=img.shape[0]\n",
        "  x_ax=img.shape[1]\n",
        "  if y_ax>y_max:\n",
        "    y_max=y_ax\n",
        "    i_y=i\n",
        "  if x_ax>x_max:\n",
        "    x_max=x_ax\n",
        "    i_x=i"
      ]
    },
    {
      "cell_type": "code",
      "execution_count": null,
      "id": "aCEktRQHeoNw",
      "metadata": {
        "id": "aCEktRQHeoNw"
      },
      "outputs": [],
      "source": [
        "print(y_max, i_y)\n",
        "print(x_max, i_x)"
      ]
    },
    {
      "cell_type": "code",
      "execution_count": null,
      "id": "IOtZ5SRGUBln",
      "metadata": {
        "id": "IOtZ5SRGUBln"
      },
      "outputs": [],
      "source": [
        "y_max=2296\n",
        "i_y=1085\n",
        "x_max=2458\n",
        "i_x=6631"
      ]
    },
    {
      "cell_type": "code",
      "execution_count": null,
      "id": "WIqK9TZYtyZL",
      "metadata": {
        "id": "WIqK9TZYtyZL"
      },
      "outputs": [],
      "source": [
        "print(img_dir+imgs[i_y])"
      ]
    },
    {
      "cell_type": "code",
      "execution_count": null,
      "id": "tnFzK-7-fkJb",
      "metadata": {
        "id": "tnFzK-7-fkJb"
      },
      "outputs": [],
      "source": [
        "imgy=cv2.imread(img_dir+imgs[i_y])/255\n",
        "imgy=cv2.cvtColor(imgy, cv2.COLOR_BGR2HSV)\n",
        "print(imgy.shape)\n",
        "plt.imshow(imgy)\n",
        "plt.show()"
      ]
    },
    {
      "cell_type": "code",
      "execution_count": null,
      "id": "0oSfCmySf1Sz",
      "metadata": {
        "id": "0oSfCmySf1Sz"
      },
      "outputs": [],
      "source": [
        "imgx=cv2.imread(img_dir+imgs[i_x])\n",
        "print(imgx.shape)\n",
        "plt.imshow(imgx)\n",
        "plt.show()"
      ]
    },
    {
      "cell_type": "code",
      "execution_count": null,
      "id": "4ute9kyl8Mqe",
      "metadata": {
        "colab": {
          "base_uri": "https://localhost:8080/"
        },
        "id": "4ute9kyl8Mqe",
        "outputId": "e91f5b7c-cfae-4dd0-b5d7-4dfea77448f0"
      },
      "outputs": [
        {
          "name": "stdout",
          "output_type": "stream",
          "text": [
            "1\n"
          ]
        }
      ],
      "source": [
        "x=(1, 2, 3)\n",
        "print(x[0])"
      ]
    },
    {
      "cell_type": "code",
      "execution_count": null,
      "id": "4RbGJoxi-pKP",
      "metadata": {
        "id": "4RbGJoxi-pKP"
      },
      "outputs": [],
      "source": [
        "for i, ID in enumerate(imgs):\n",
        "  print(i, ID)"
      ]
    },
    {
      "cell_type": "code",
      "execution_count": null,
      "id": "oj3wYW65gGFy",
      "metadata": {
        "colab": {
          "base_uri": "https://localhost:8080/",
          "height": 240
        },
        "id": "oj3wYW65gGFy",
        "outputId": "7d4a0ee2-7507-4e62-e994-bfd14ba9948e"
      },
      "outputs": [
        {
          "ename": "NameError",
          "evalue": "ignored",
          "output_type": "error",
          "traceback": [
            "\u001b[0;31m---------------------------------------------------------------------------\u001b[0m",
            "\u001b[0;31mNameError\u001b[0m                                 Traceback (most recent call last)",
            "\u001b[0;32m<ipython-input-10-11e31e61d075>\u001b[0m in \u001b[0;36m<cell line: 1>\u001b[0;34m()\u001b[0m\n\u001b[0;32m----> 1\u001b[0;31m im=np.array(tf.image.resize_with_pad(img, y_max, x_max, method=tf.image.ResizeMethod.NEAREST_NEIGHBOR,\n\u001b[0m\u001b[1;32m      2\u001b[0m                    antialias=False))\n\u001b[1;32m      3\u001b[0m \u001b[0mplt\u001b[0m\u001b[0;34m.\u001b[0m\u001b[0mimshow\u001b[0m\u001b[0;34m(\u001b[0m\u001b[0mim\u001b[0m\u001b[0;34m)\u001b[0m\u001b[0;34m\u001b[0m\u001b[0;34m\u001b[0m\u001b[0m\n\u001b[1;32m      4\u001b[0m \u001b[0mplt\u001b[0m\u001b[0;34m.\u001b[0m\u001b[0mshow\u001b[0m\u001b[0;34m(\u001b[0m\u001b[0;34m)\u001b[0m\u001b[0;34m\u001b[0m\u001b[0;34m\u001b[0m\u001b[0m\n",
            "\u001b[0;31mNameError\u001b[0m: name 'img' is not defined"
          ]
        }
      ],
      "source": [
        "im=np.array(tf.image.resize_with_pad(img, y_max, x_max, method=tf.image.ResizeMethod.NEAREST_NEIGHBOR,\n",
        "                   antialias=False))\n",
        "plt.imshow(im)\n",
        "plt.show()"
      ]
    },
    {
      "cell_type": "code",
      "execution_count": null,
      "id": "5lQok0zlAeTY",
      "metadata": {
        "colab": {
          "base_uri": "https://localhost:8080/"
        },
        "id": "5lQok0zlAeTY",
        "outputId": "7ece68bb-cc6a-4e02-8ae6-838829128689"
      },
      "outputs": [
        {
          "data": {
            "text/plain": [
              "numpy.ndarray"
            ]
          },
          "execution_count": 48,
          "metadata": {},
          "output_type": "execute_result"
        }
      ],
      "source": [
        "type(np.array(im))"
      ]
    },
    {
      "cell_type": "code",
      "execution_count": null,
      "id": "aUm7tK9L3KGk",
      "metadata": {
        "id": "aUm7tK9L3KGk"
      },
      "outputs": [],
      "source": [
        "class CustomGenerator(tf.keras.utils.Sequence):\n",
        "  def __init__(self, image_files, label_map, batch_size=20, dim=(y_max, x_max, 3), n_classes=50,\n",
        "               shuffle=True):\n",
        "    self.image_files=image_files\n",
        "    self.label_map=label_map\n",
        "    self.image_dir=\"drive/MyDrive/ColabNotebooks/DSCI471/Project/Project/data/resized/resized/\"\n",
        "    self.batch_size=batch_size\n",
        "    self.dim=dim\n",
        "    self.n_classes=n_classes\n",
        "    self.shuffle=shuffle\n",
        "    self.on_epoch_end()\n",
        "\n",
        "  def __len__(self):\n",
        "    return int(np.floor(len(self.image_files)/self.batch_size))\n",
        "  \n",
        "  def __getitem__(self, index):\n",
        "    indexes=self.indexes[index*self.batch_size:(index+1)*self.batch_size]\n",
        "    temp_IDs=[self.image_files[k] for k in indexes]\n",
        "    X, y = self.__data_generation(temp_IDs)\n",
        "    return X, y\n",
        "  \n",
        "  def __data_generation(self, temp_IDs):\n",
        "    X=np.empty((self.batch_size, *self.dim))\n",
        "    y=np.empty((self.batch_size), dtype=int)\n",
        "\n",
        "    c=0\n",
        "    for ID in temp_IDs:\n",
        "      if ID.split('_')[1]=='Du╠êrer':\n",
        "        print(ID.split('_'))\n",
        "        continue\n",
        "      X[c,]=self.__data_preprocess(ID)\n",
        "      plt.imshow(X[c,])\n",
        "      plt.show()\n",
        "      if ID.split('_')[0]=='Albrecht':\n",
        "        y[c]=self.label_map['Albrecht_Durer']\n",
        "        print('here 2')\n",
        "      else:\n",
        "        y[c]=self.label_map[ID.rpartition('_')[0]]\n",
        "      c+=1\n",
        "\n",
        "    return X, tf.keras.utils.to_categorical(y, num_classes=self.n_classes)\n",
        "\n",
        "  def __data_preprocess(self, temp_ID):\n",
        "    #DATA PREPROCESSING HERE\n",
        "    print(self.image_dir+temp_ID)\n",
        "    img=cv2.imread(self.image_dir+temp_ID)\n",
        "    img=img/255\n",
        "    img=np.array(tf.image.resize_with_pad(img, self.dim[0], self.dim[1], method=tf.image.ResizeMethod.BILINEAR,\n",
        "                   antialias=False))\n",
        "    plt.imshow(img)\n",
        "    plt.show\n",
        "    return img\n",
        "\n",
        "  def on_epoch_end(self):\n",
        "    self.indexes=np.arange(len(self.image_files))\n",
        "    if self.shuffle==True:\n",
        "      np.random.shuffle(self.indexes)"
      ]
    },
    {
      "cell_type": "code",
      "execution_count": null,
      "id": "UT0rszO-WJ7h",
      "metadata": {
        "id": "UT0rszO-WJ7h"
      },
      "outputs": [],
      "source": [
        "artists=pd.read_csv('drive/MyDrive/ColabNotebooks/DSCI471/Project/Project/data/artists.csv')"
      ]
    },
    {
      "cell_type": "code",
      "execution_count": null,
      "id": "_TA9VHeMaRxL",
      "metadata": {
        "colab": {
          "base_uri": "https://localhost:8080/"
        },
        "id": "_TA9VHeMaRxL",
        "outputId": "f7222cfd-e890-4b3e-e24c-90add59b55ac"
      },
      "outputs": [
        {
          "name": "stdout",
          "output_type": "stream",
          "text": [
            "['Amedeo Modigliani' 'Vasiliy Kandinskiy' 'Diego Rivera' 'Claude Monet'\n",
            " 'Rene Magritte' 'Salvador Dali' 'Edouard Manet' 'Andrei Rublev'\n",
            " 'Vincent van Gogh' 'Gustav Klimt' 'Hieronymus Bosch' 'Kazimir Malevich'\n",
            " 'Mikhail Vrubel' 'Pablo Picasso' 'Peter Paul Rubens'\n",
            " 'Pierre-Auguste Renoir' 'Francisco Goya' 'Frida Kahlo' 'El Greco'\n",
            " 'Albrecht Dürer' 'Alfred Sisley' 'Pieter Bruegel' 'Marc Chagall'\n",
            " 'Giotto di Bondone' 'Sandro Botticelli' 'Caravaggio' 'Leonardo da Vinci'\n",
            " 'Diego Velazquez' 'Henri Matisse' 'Jan van Eyck' 'Edgar Degas'\n",
            " 'Rembrandt' 'Titian' 'Henri de Toulouse-Lautrec' 'Gustave Courbet'\n",
            " 'Camille Pissarro' 'William Turner' 'Edvard Munch' 'Paul Cezanne'\n",
            " 'Eugene Delacroix' 'Henri Rousseau' 'Georges Seurat' 'Paul Klee'\n",
            " 'Piet Mondrian' 'Joan Miro' 'Andy Warhol' 'Paul Gauguin' 'Raphael'\n",
            " 'Michelangelo' 'Jackson Pollock']\n"
          ]
        }
      ],
      "source": [
        "artists_arr=artists.name.unique()\n",
        "print(artists_arr)"
      ]
    },
    {
      "cell_type": "code",
      "execution_count": null,
      "id": "mJ4jelNoeDou",
      "metadata": {
        "colab": {
          "base_uri": "https://localhost:8080/"
        },
        "id": "mJ4jelNoeDou",
        "outputId": "497b7bd5-1d93-4da3-9584-4e21635fd748"
      },
      "outputs": [
        {
          "name": "stdout",
          "output_type": "stream",
          "text": [
            "{'Amedeo_Modigliani': 0, 'Vasiliy_Kandinskiy': 1, 'Diego_Rivera': 2, 'Claude_Monet': 3, 'Rene_Magritte': 4, 'Salvador_Dali': 5, 'Edouard_Manet': 6, 'Andrei_Rublev': 7, 'Vincent_van_Gogh': 8, 'Gustav_Klimt': 9, 'Hieronymus_Bosch': 10, 'Kazimir_Malevich': 11, 'Mikhail_Vrubel': 12, 'Pablo_Picasso': 13, 'Peter_Paul_Rubens': 14, 'Pierre-Auguste_Renoir': 15, 'Francisco_Goya': 16, 'Frida_Kahlo': 17, 'El_Greco': 18, 'Albrecht_Durer': 19, 'Alfred_Sisley': 20, 'Pieter_Bruegel': 21, 'Marc_Chagall': 22, 'Giotto_di_Bondone': 23, 'Sandro_Botticelli': 24, 'Caravaggio': 25, 'Leonardo_da_Vinci': 26, 'Diego_Velazquez': 27, 'Henri_Matisse': 28, 'Jan_van_Eyck': 29, 'Edgar_Degas': 30, 'Rembrandt': 31, 'Titian': 32, 'Henri_de_Toulouse-Lautrec': 33, 'Gustave_Courbet': 34, 'Camille_Pissarro': 35, 'William_Turner': 36, 'Edvard_Munch': 37, 'Paul_Cezanne': 38, 'Eugene_Delacroix': 39, 'Henri_Rousseau': 40, 'Georges_Seurat': 41, 'Paul_Klee': 42, 'Piet_Mondrian': 43, 'Joan_Miro': 44, 'Andy_Warhol': 45, 'Paul_Gauguin': 46, 'Raphael': 47, 'Michelangelo': 48, 'Jackson_Pollock': 49}\n"
          ]
        }
      ],
      "source": [
        "artists_map={}\n",
        "for i in range(len(artists_arr)):\n",
        "  art=artists_arr[i]\n",
        "  if art.split(' ')[0]=='Albrecht':\n",
        "    artists_map['Albrecht_Durer']=i\n",
        "  else:\n",
        "    art='_'.join(art.split(' '))\n",
        "    artists_map[art]=i\n",
        "print(artists_map)"
      ]
    },
    {
      "cell_type": "code",
      "execution_count": null,
      "id": "LBJKsjI9fHD-",
      "metadata": {
        "id": "LBJKsjI9fHD-"
      },
      "outputs": [],
      "source": [
        "for i in range(len(imgs)):\n",
        "  img_try=imgs[i].rpartition('_')[0]\n",
        "  if img_try not in artists_map:\n",
        "    print(img_try, i)"
      ]
    },
    {
      "cell_type": "code",
      "execution_count": null,
      "id": "MkOjpZlOWVJ3",
      "metadata": {
        "id": "MkOjpZlOWVJ3"
      },
      "outputs": [],
      "source": [
        "n_classes=len(artists.name.unique())"
      ]
    },
    {
      "cell_type": "code",
      "execution_count": null,
      "id": "E6eQA04NW4i8",
      "metadata": {
        "id": "E6eQA04NW4i8"
      },
      "outputs": [],
      "source": [
        "traingen=CustomGenerator(imgs, artists_map)"
      ]
    },
    {
      "cell_type": "code",
      "execution_count": null,
      "id": "hOpNbq7mYC2-",
      "metadata": {
        "id": "hOpNbq7mYC2-"
      },
      "outputs": [],
      "source": [
        "X, y=traingen[0]\n",
        "print(X)\n",
        "print(y)"
      ]
    },
    {
      "cell_type": "code",
      "execution_count": null,
      "id": "vRYLANKKntlE",
      "metadata": {
        "colab": {
          "base_uri": "https://localhost:8080/"
        },
        "id": "vRYLANKKntlE",
        "outputId": "204185d3-9978-4961-b2c5-c85a47aa10b3"
      },
      "outputs": [
        {
          "name": "stdout",
          "output_type": "stream",
          "text": [
            "[0. 0. 0. 0. 0. 0. 0. 0. 0. 0. 0. 0. 0. 0. 0. 1. 0. 0. 0. 0. 0. 0. 0. 0.\n",
            " 0. 0. 0. 0. 0. 0. 0. 0. 0. 0. 0. 0. 0. 0. 0. 0. 0. 0. 0. 0. 0. 0. 0. 0.\n",
            " 0. 0.]\n"
          ]
        }
      ],
      "source": [
        "print(y[0])"
      ]
    },
    {
      "cell_type": "code",
      "execution_count": null,
      "id": "bJWW-3_XmUIF",
      "metadata": {
        "id": "bJWW-3_XmUIF"
      },
      "outputs": [],
      "source": [
        "for i in range(len(X)):\n",
        "  plt.imshow(X[i])\n",
        "  plt.show()"
      ]
    },
    {
      "cell_type": "code",
      "execution_count": null,
      "id": "3eRsn-Yf0r8g",
      "metadata": {
        "id": "3eRsn-Yf0r8g"
      },
      "outputs": [],
      "source": [
        "train_imgs=random.sample(imgs, math.floor(0.8*len(imgs)))\n"
      ]
    },
    {
      "cell_type": "code",
      "execution_count": null,
      "id": "I7y1pSBGb4Gu",
      "metadata": {
        "id": "I7y1pSBGb4Gu"
      },
      "outputs": [],
      "source": [
        "model = keras.Sequential([\n",
        "    layers.Conv2D(32, (5,5), input_shape=(y_max, x_max, 3)),\n",
        "    layers.MaxPool2D(pool_size=2, strides=2),\n",
        "    layers.Conv2D(64, (5,5), activation='relu', padding='same'),\n",
        "    layers.MaxPool2D(pool_size=2, strides=2),\n",
        "    layers.Flatten(),\n",
        "    layers.Dense(128, activation='tanh'),\n",
        "    layers.Dense(n_classes, activation='softmax')\n",
        "])"
      ]
    }
  ],
  "metadata": {
    "colab": {
      "gpuType": "T4",
      "provenance": []
    },
    "kernelspec": {
      "display_name": "Python 3",
      "name": "python3"
    },
    "language_info": {
      "name": "python",
      "version": "3.9.-1"
    }
  },
  "nbformat": 4,
  "nbformat_minor": 5
}
